{
 "cells": [
  {
   "cell_type": "code",
   "execution_count": null,
   "metadata": {
    "application/vnd.databricks.v1+cell": {
     "cellMetadata": {
      "byteLimit": 2048000,
      "rowLimit": 10000
     },
     "inputWidgets": {},
     "nuid": "dda59aa7-6cd5-40a0-bcd0-d038ab02677c",
     "showTitle": false,
     "title": ""
    }
   },
   "outputs": [],
   "source": [
    "import numpy as np\n",
    "import pandas as pd\n",
    "import seaborn as sns\n",
    "import matplotlib.pyplot as plt\n",
    "import time\n",
    "import xgboost as xgb\n",
    "import sklearn\n",
    "from sklearn.model_selection import train_test_split\n",
    "from sklearn.metrics import accuracy_score, precision_score, recall_score, f1_score, roc_auc_score\n",
    "from sklearn.metrics import confusion_matrix, classification_report\n",
    "import mlflow.sklearn\n",
    "import mlflow.xgboost\n",
    "import mlflow.pyfunc\n",
    "from mlflow.models.signature import infer_signature\n",
    "from mlflow.tracking import MlflowClient\n",
    "from hyperopt import fmin, hp, tpe, SparkTrials, Trials, STATUS_OK\n",
    "from hyperopt.pyll import scope"
   ]
  },
  {
   "cell_type": "code",
   "execution_count": null,
   "metadata": {
    "application/vnd.databricks.v1+cell": {
     "cellMetadata": {
      "byteLimit": 2048000,
      "rowLimit": 10000
     },
     "inputWidgets": {},
     "nuid": "091ddda3-3a9c-4090-b7da-37ac133f10f6",
     "showTitle": false,
     "title": ""
    }
   },
   "outputs": [
    {
     "name": "stdout",
     "output_type": "stream",
     "text": [
      "data shape: (303, 14)\n"
     ]
    },
    {
     "data": {
      "text/html": [
       "<div>\n",
       "<style scoped>\n",
       "    .dataframe tbody tr th:only-of-type {\n",
       "        vertical-align: middle;\n",
       "    }\n",
       "\n",
       "    .dataframe tbody tr th {\n",
       "        vertical-align: top;\n",
       "    }\n",
       "\n",
       "    .dataframe thead th {\n",
       "        text-align: right;\n",
       "    }\n",
       "</style>\n",
       "<table border=\"1\" class=\"dataframe\">\n",
       "  <thead>\n",
       "    <tr style=\"text-align: right;\">\n",
       "      <th></th>\n",
       "      <th>age</th>\n",
       "      <th>sex</th>\n",
       "      <th>cp</th>\n",
       "      <th>trestbps</th>\n",
       "      <th>chol</th>\n",
       "      <th>fbs</th>\n",
       "      <th>restecg</th>\n",
       "      <th>thalach</th>\n",
       "      <th>exang</th>\n",
       "      <th>oldpeak</th>\n",
       "      <th>slope</th>\n",
       "      <th>ca</th>\n",
       "      <th>thal</th>\n",
       "      <th>target</th>\n",
       "    </tr>\n",
       "  </thead>\n",
       "  <tbody>\n",
       "    <tr>\n",
       "      <th>0</th>\n",
       "      <td>63</td>\n",
       "      <td>1</td>\n",
       "      <td>3</td>\n",
       "      <td>145</td>\n",
       "      <td>233</td>\n",
       "      <td>1</td>\n",
       "      <td>0</td>\n",
       "      <td>150</td>\n",
       "      <td>0</td>\n",
       "      <td>2.3</td>\n",
       "      <td>0</td>\n",
       "      <td>0</td>\n",
       "      <td>1</td>\n",
       "      <td>1</td>\n",
       "    </tr>\n",
       "    <tr>\n",
       "      <th>1</th>\n",
       "      <td>37</td>\n",
       "      <td>1</td>\n",
       "      <td>2</td>\n",
       "      <td>130</td>\n",
       "      <td>250</td>\n",
       "      <td>0</td>\n",
       "      <td>1</td>\n",
       "      <td>187</td>\n",
       "      <td>0</td>\n",
       "      <td>3.5</td>\n",
       "      <td>0</td>\n",
       "      <td>0</td>\n",
       "      <td>2</td>\n",
       "      <td>1</td>\n",
       "    </tr>\n",
       "    <tr>\n",
       "      <th>2</th>\n",
       "      <td>41</td>\n",
       "      <td>0</td>\n",
       "      <td>1</td>\n",
       "      <td>130</td>\n",
       "      <td>204</td>\n",
       "      <td>0</td>\n",
       "      <td>0</td>\n",
       "      <td>172</td>\n",
       "      <td>0</td>\n",
       "      <td>1.4</td>\n",
       "      <td>2</td>\n",
       "      <td>0</td>\n",
       "      <td>2</td>\n",
       "      <td>1</td>\n",
       "    </tr>\n",
       "    <tr>\n",
       "      <th>3</th>\n",
       "      <td>56</td>\n",
       "      <td>1</td>\n",
       "      <td>1</td>\n",
       "      <td>120</td>\n",
       "      <td>236</td>\n",
       "      <td>0</td>\n",
       "      <td>1</td>\n",
       "      <td>178</td>\n",
       "      <td>0</td>\n",
       "      <td>0.8</td>\n",
       "      <td>2</td>\n",
       "      <td>0</td>\n",
       "      <td>2</td>\n",
       "      <td>1</td>\n",
       "    </tr>\n",
       "    <tr>\n",
       "      <th>4</th>\n",
       "      <td>57</td>\n",
       "      <td>0</td>\n",
       "      <td>0</td>\n",
       "      <td>120</td>\n",
       "      <td>354</td>\n",
       "      <td>0</td>\n",
       "      <td>1</td>\n",
       "      <td>163</td>\n",
       "      <td>1</td>\n",
       "      <td>0.6</td>\n",
       "      <td>2</td>\n",
       "      <td>0</td>\n",
       "      <td>2</td>\n",
       "      <td>1</td>\n",
       "    </tr>\n",
       "  </tbody>\n",
       "</table>\n",
       "</div>"
      ],
      "text/plain": [
       "   age  sex  cp  trestbps  chol  fbs  ...  exang  oldpeak  slope  ca  thal  target\n",
       "0   63    1   3       145   233    1  ...      0      2.3      0   0     1       1\n",
       "1   37    1   2       130   250    0  ...      0      3.5      0   0     2       1\n",
       "2   41    0   1       130   204    0  ...      0      1.4      2   0     2       1\n",
       "3   56    1   1       120   236    0  ...      0      0.8      2   0     2       1\n",
       "4   57    0   0       120   354    0  ...      1      0.6      2   0     2       1\n",
       "\n",
       "[5 rows x 14 columns]"
      ]
     },
     "execution_count": 2,
     "metadata": {},
     "output_type": "execute_result"
    }
   ],
   "source": [
    "data_df = spark.table(\"db_pegah.default.heart_disease\")\n",
    "df = data_df.toPandas()\n",
    "print(\"data shape:\", df.shape)\n",
    "df.head()"
   ]
  },
  {
   "cell_type": "code",
   "execution_count": null,
   "metadata": {
    "application/vnd.databricks.v1+cell": {
     "cellMetadata": {
      "byteLimit": 2048000,
      "rowLimit": 10000
     },
     "inputWidgets": {},
     "nuid": "4ae5cf01-1c98-499e-831d-774cd13273ca",
     "showTitle": false,
     "title": ""
    }
   },
   "outputs": [
    {
     "name": "stdout",
     "output_type": "stream",
     "text": [
      "X shape: (303, 13), y shape: (303,)\n",
      "X_train shape: (181, 13), y_train shape: (181,)\n",
      "x_val shape: (61, 13) , y_val shape: (61,)\n",
      "X_test shape: (61, 13), y_test shape: (61,)\n"
     ]
    }
   ],
   "source": [
    "#Splitting the Dataset for Training, Validating and Testing \n",
    "\n",
    "X = df.drop('target' , axis=1 )\n",
    "y = df['target']\n",
    "\n",
    "x_train , x_rem , y_train , y_rem = train_test_split( X , y , train_size=0.6 , random_state=42 )\n",
    "x_val , x_test , y_val , y_test = train_test_split(x_rem , y_rem , test_size=0.5 , random_state=42)\n",
    "\n",
    "print(f\"X shape: {X.shape}, y shape: {y.shape}\")\n",
    "print(f\"X_train shape: {x_train.shape}, y_train shape: {y_train.shape}\")\n",
    "print(f\"x_val shape: {x_val.shape} , y_val shape: {y_val.shape}\")\n",
    "print(f\"X_test shape: {x_test.shape}, y_test shape: {y_test.shape}\")"
   ]
  },
  {
   "cell_type": "code",
   "execution_count": null,
   "metadata": {
    "application/vnd.databricks.v1+cell": {
     "cellMetadata": {
      "byteLimit": 2048000,
      "rowLimit": 10000
     },
     "inputWidgets": {},
     "nuid": "cbeee95c-f5ce-4afb-97ba-3ffecd3587b2",
     "showTitle": false,
     "title": ""
    }
   },
   "outputs": [],
   "source": [
    "#for calculating metrics\n",
    "def calc_metric(y_actual,y_pred,y_prob):\n",
    "    accuracy = accuracy_score(y_actual,y_pred)\n",
    "    precision = precision_score(y_actual,y_pred)\n",
    "    recall = recall_score(y_actual,y_pred)\n",
    "    f1 = f1_score(y_actual,y_pred)\n",
    "    roc_auc = roc_auc_score(y_actual,y_prob)\n",
    "    return accuracy , precision , recall , f1 , roc_auc"
   ]
  },
  {
   "cell_type": "markdown",
   "metadata": {},
   "source": [
    "### Experiment with a XGBooster model with hyperparameter tuning"
   ]
  },
  {
   "cell_type": "code",
   "execution_count": null,
   "metadata": {
    "application/vnd.databricks.v1+cell": {
     "cellMetadata": {
      "byteLimit": 2048000,
      "rowLimit": 10000
     },
     "inputWidgets": {},
     "nuid": "44a52b61-de00-4f04-94eb-7ec043492b88",
     "showTitle": false,
     "title": ""
    }
   },
   "outputs": [
    {
     "name": "stdout",
     "output_type": "stream",
     "text": [
      "\r  0%|          | 0/50 [00:00<?, ?trial/s, best loss=?]\r  2%|▏         | 1/50 [00:12<09:51, 12.08s/trial, best loss: -0.948051948051948]\r  4%|▍         | 2/50 [00:13<04:27,  5.57s/trial, best loss: -0.948051948051948]\r  6%|▌         | 3/50 [00:14<02:43,  3.48s/trial, best loss: -0.948051948051948]\r  8%|▊         | 4/50 [00:15<01:55,  2.51s/trial, best loss: -0.9512987012987013]\r 10%|█         | 5/50 [00:22<03:05,  4.13s/trial, best loss: -0.9512987012987013]\r 14%|█▍        | 7/50 [00:24<01:49,  2.54s/trial, best loss: -0.9512987012987013]\r 16%|█▌        | 8/50 [00:25<01:29,  2.14s/trial, best loss: -0.9512987012987013]\r 18%|█▊        | 9/50 [00:32<02:22,  3.48s/trial, best loss: -0.9512987012987013]\r 20%|██        | 10/50 [00:34<02:02,  3.07s/trial, best loss: -0.9523809523809523]\r 24%|██▍       | 12/50 [00:35<01:13,  1.94s/trial, best loss: -0.9523809523809524]\r 26%|██▌       | 13/50 [00:41<01:48,  2.93s/trial, best loss: -0.9523809523809524]\r 30%|███       | 15/50 [00:45<01:29,  2.56s/trial, best loss: -0.9523809523809524]\r 32%|███▏      | 16/50 [00:46<01:15,  2.21s/trial, best loss: -0.9523809523809524]\r 34%|███▍      | 17/50 [00:51<01:35,  2.90s/trial, best loss: -0.9523809523809524]\r 36%|███▌      | 18/50 [00:55<01:42,  3.20s/trial, best loss: -0.9523809523809524]\r 40%|████      | 20/50 [00:56<01:01,  2.05s/trial, best loss: -0.9610389610389609]\r 42%|████▏     | 21/50 [01:02<01:26,  2.99s/trial, best loss: -0.9610389610389609]\r 46%|████▌     | 23/50 [01:06<01:10,  2.60s/trial, best loss: -0.9610389610389609]\r 48%|████▊     | 24/50 [01:07<00:58,  2.25s/trial, best loss: -0.9610389610389609]\r 54%|█████▍    | 27/50 [01:16<01:00,  2.63s/trial, best loss: -0.9610389610389609]\r 56%|█████▌    | 28/50 [01:17<00:51,  2.33s/trial, best loss: -0.9610389610389609]\r 62%|██████▏   | 31/50 [01:27<00:52,  2.79s/trial, best loss: -0.9610389610389609]\r 64%|██████▍   | 32/50 [01:28<00:44,  2.47s/trial, best loss: -0.9610389610389609]\r 68%|██████▊   | 34/50 [01:38<00:53,  3.33s/trial, best loss: -0.9610389610389609]\r 72%|███████▏  | 36/50 [01:39<00:33,  2.42s/trial, best loss: -0.9610389610389609]\r 74%|███████▍  | 37/50 [01:48<00:47,  3.67s/trial, best loss: -0.9610389610389609]\r 78%|███████▊  | 39/50 [01:49<00:28,  2.57s/trial, best loss: -0.9642857142857143]\r 80%|████████  | 40/50 [01:50<00:22,  2.26s/trial, best loss: -0.9642857142857143]\r 82%|████████▏ | 41/50 [02:00<00:33,  3.77s/trial, best loss: -0.9642857142857143]\r 88%|████████▊ | 44/50 [02:01<00:12,  2.10s/trial, best loss: -0.9642857142857143]\r 90%|█████████ | 45/50 [02:10<00:17,  3.40s/trial, best loss: -0.9642857142857143]\r 94%|█████████▍| 47/50 [02:12<00:07,  2.56s/trial, best loss: -0.9642857142857143]\r 96%|█████████▌| 48/50 [02:13<00:04,  2.25s/trial, best loss: -0.9642857142857143]\r 98%|█████████▊| 49/50 [02:19<00:03,  3.08s/trial, best loss: -0.9642857142857143]\r100%|██████████| 50/50 [02:20<00:00,  2.58s/trial, best loss: -0.9642857142857143]\r100%|██████████| 50/50 [02:20<00:00,  2.80s/trial, best loss: -0.9642857142857143]\n"
     ]
    },
    {
     "name": "stderr",
     "output_type": "stream",
     "text": [
      "Total Trials: 50: 50 succeeded, 0 failed, 0 cancelled.\n",
      "2024/08/21 03:52:01 INFO mlflow.tracking._tracking_service.client: 🏃 View run XGB_Hyperparameter_Tuning at: adb-906463842782173.13.azuredatabricks.net/ml/experiments/330410437239118/runs/f3cd9d100037431998525e5edf78892a.\n",
      "2024/08/21 03:52:01 INFO mlflow.tracking._tracking_service.client: 🧪 View experiment at: adb-906463842782173.13.azuredatabricks.net/ml/experiments/330410437239118.\n"
     ]
    }
   ],
   "source": [
    "# Define the search space for hyperparameters\n",
    "search_space = {\n",
    "    'n_estimators': scope.int(hp.quniform('n_estimators', 100, 1000, 50)),\n",
    "    'max_depth': scope.int(hp.quniform('max_depth', 3, 15, 1)),\n",
    "    'learning_rate': hp.loguniform('learning_rate', -3, 0),\n",
    "    'subsample': hp.uniform('subsample', 0.5, 1.0),\n",
    "    'colsample_bytree': hp.uniform('colsample_bytree', 0.5, 1.0),\n",
    "    'reg_alpha': hp.loguniform('reg_alpha', -5, 1),\n",
    "    'reg_lambda': hp.loguniform('reg_lambda', -5, 1),\n",
    "    'min_child_weight': hp.loguniform('min_child_weight', -1, 3),\n",
    "    'objective': 'binary:logistic'\n",
    "}\n",
    "\n",
    "def objective(params):\n",
    "        run_name = f\"XGB_n={params['n_estimators']}_d={params['max_depth']}_lr={params['learning_rate']}\"\n",
    "        with mlflow.start_run(nested=True, run_name=run_name):\n",
    "                xgb_model = xgb.XGBClassifier(**params, use_label_encoder=False, eval_metric='logloss', random_state=42)\n",
    "                xgb_model.fit(x_train, y_train)\n",
    "                \n",
    "                y_pred_val = xgb_model.predict(x_val)\n",
    "                y_prob_val = xgb_model.predict_proba(x_val)[:, 1]\n",
    "\n",
    "                (accuracy , precision , recall , f1 , roc_auc) = calc_metric(y_val,y_pred_val,y_prob_val)\n",
    "                mlflow.log_metric('accuracy', accuracy)\n",
    "                mlflow.log_metric('precision', precision)\n",
    "                mlflow.log_metric('recall', recall)\n",
    "                mlflow.log_metric('f1_score', f1)\n",
    "                mlflow.log_metric('roc_auc', roc_auc)\n",
    "                mlflow.log_params(params)\n",
    "                signature = infer_signature(x_train, xgb_model.predict(x_train))\n",
    "                mlflow.xgboost.log_model(xgb_model, artifact_path=\"xgboost_model\", signature=signature)\n",
    "                        \n",
    "                return {\"loss\": -roc_auc, \"status\": STATUS_OK}\n",
    "\n",
    "with mlflow.start_run(run_name=\"XGB_Hyperparameter_Tuning\"):\n",
    "        spark_trials = SparkTrials(parallelism=10) #for parallel hyperparameter tuning\n",
    "        best_params = fmin(fn=objective, \n",
    "                                space=search_space, \n",
    "                                algo=tpe.suggest, \n",
    "                                max_evals=50, \n",
    "                                trials=spark_trials)\n",
    "        mlflow.log_params(best_params)\n",
    "  \n",
    "\n",
    "mlflow.end_run()\n"
   ]
  },
  {
   "cell_type": "code",
   "execution_count": null,
   "metadata": {
    "application/vnd.databricks.v1+cell": {
     "cellMetadata": {
      "byteLimit": 2048000,
      "rowLimit": 10000
     },
     "inputWidgets": {},
     "nuid": "b68ffe35-0c74-4244-a45b-6968902a76c8",
     "showTitle": false,
     "title": ""
    }
   },
   "outputs": [
    {
     "name": "stdout",
     "output_type": "stream",
     "text": [
      "roc_auc of best run: 0.9642857142857143\n",
      "Run ID: 0853cea52c1b447582ed0d02048e2d14\n",
      "Artifact URI: dbfs:/databricks/mlflow-tracking/330410437239118/0853cea52c1b447582ed0d02048e2d14/artifacts\n",
      "Status: FINISHED\n",
      "Tags: XGB_n=950_d=12_lr=0.13532335658920774\n",
      "Metrics: {'accuracy': 0.9016393442622951, 'f1_score': 0.90625, 'precision': 0.9354838709677419, 'recall': 0.8787878787878788, 'roc_auc': 0.9642857142857143}\n",
      "Params: {'colsample_bytree': '0.5262909009925324', 'learning_rate': '0.13532335658920774', 'max_depth': '12', 'min_child_weight': '3.8276130069923684', 'n_estimators': '950', 'objective': 'binary:logistic', 'reg_alpha': '0.3381415262577606', 'reg_lambda': '0.0068019981514377235', 'subsample': '0.9620076083862169'}\n"
     ]
    }
   ],
   "source": [
    "# Search all runs across experiments\n",
    "search_result = mlflow.search_runs(order_by=['metrics.roc_auc DESC'])\n",
    "\n",
    "# Find the best run\n",
    "best_run = search_result.iloc[0]  # Get the top run\n",
    "best_auc = best_run[\"metrics.roc_auc\"]\n",
    "best_run_id = best_run[\"run_id\"]\n",
    "print(f'roc_auc of best run: {best_auc}')\n",
    "\n",
    "# Retrieve details of the best run\n",
    "best_run_details = mlflow.get_run(best_run_id)\n",
    "print(\"Run ID:\", best_run_details.info.run_id)\n",
    "print(\"Artifact URI:\", best_run_details.info.artifact_uri)\n",
    "print(\"Status:\", best_run_details.info.status)\n",
    "print(\"Tags:\", best_run_details.data.tags.get(\"mlflow.runName\"))\n",
    "print(\"Metrics:\", best_run_details.data.metrics)\n",
    "print(\"Params:\", best_run_details.data.params) "
   ]
  },
  {
   "cell_type": "code",
   "execution_count": null,
   "metadata": {
    "application/vnd.databricks.v1+cell": {
     "cellMetadata": {
      "byteLimit": 2048000,
      "rowLimit": 10000
     },
     "inputWidgets": {},
     "nuid": "37871fcd-95e8-4649-93e7-9038a8aeb91f",
     "showTitle": false,
     "title": ""
    }
   },
   "outputs": [],
   "source": [
    "# Register the best run model and assign it the \"Champion\" alias\n",
    "model_name = \"Best_Model\"\n",
    "model_uri = f\"runs:/{best_run_id}/xgboost_model\"  \n",
    "model_version = mlflow.register_model(model_uri, model_name)\n",
    "\n",
    "client = MlflowClient()\n",
    "client.set_registered_model_alias(model_name, \"Champion\", model_version.version)"
   ]
  },
  {
   "cell_type": "markdown",
   "metadata": {},
   "source": [
    "### Load model"
   ]
  },
  {
   "cell_type": "code",
   "execution_count": null,
   "metadata": {
    "application/vnd.databricks.v1+cell": {
     "cellMetadata": {
      "byteLimit": 2048000,
      "rowLimit": 10000
     },
     "inputWidgets": {},
     "nuid": "8e206297-c879-4bbd-ab61-a53bfc8e12f0",
     "showTitle": false,
     "title": ""
    }
   },
   "outputs": [],
   "source": [
    "model = mlflow.xgboost.load_model(f\"models:/{model_name}@Champion\")"
   ]
  },
  {
   "cell_type": "code",
   "execution_count": null,
   "metadata": {
    "application/vnd.databricks.v1+cell": {
     "cellMetadata": {
      "byteLimit": 2048000,
      "rowLimit": 10000
     },
     "inputWidgets": {},
     "nuid": "05e11983-8566-4442-a205-5850b86f1239",
     "showTitle": false,
     "title": ""
    }
   },
   "outputs": [
    {
     "name": "stdout",
     "output_type": "stream",
     "text": [
      "AUC: 0.9988984088127295\n",
      "AUC: 0.9642857142857143\n",
      "AUC: 0.8198198198198199\n"
     ]
    }
   ],
   "source": [
    "print(f'AUC: {roc_auc_score(y_train, model.predict_proba(x_train)[:, 1])}')\n",
    "print(f'AUC: {roc_auc_score(y_val, model.predict_proba(x_val)[:, 1])}')\n",
    "print(f'AUC: {roc_auc_score(y_test, model.predict_proba(x_test)[:, 1])}')"
   ]
  },
  {
   "cell_type": "code",
   "execution_count": null,
   "metadata": {
    "application/vnd.databricks.v1+cell": {
     "cellMetadata": {
      "byteLimit": 2048000,
      "rowLimit": 10000
     },
     "inputWidgets": {},
     "nuid": "a88c41b5-7d81-485c-9437-7899a268629e",
     "showTitle": false,
     "title": ""
    }
   },
   "outputs": [
    {
     "name": "stdout",
     "output_type": "stream",
     "text": [
      "AUC: 0.9642857142857143\n",
      "Classification Report:\n",
      "               precision    recall  f1-score   support\n",
      "\n",
      "           0       0.87      0.93      0.90        28\n",
      "           1       0.94      0.88      0.91        33\n",
      "\n",
      "    accuracy                           0.90        61\n",
      "   macro avg       0.90      0.90      0.90        61\n",
      "weighted avg       0.90      0.90      0.90        61\n",
      "\n"
     ]
    },
    {
     "data": {
      "image/png": "[encoded data removed]",
      "text/plain": [
       "<Figure size 400x300 with 2 Axes>"
      ]
     },
     "metadata": {},
     "output_type": "display_data"
    }
   ],
   "source": [
    "y_pred_val = model.predict(x_val)\n",
    "y_prob_val = model.predict_proba(x_val)[:, 1]\n",
    "conf_matrix = confusion_matrix(y_val, y_pred_val)\n",
    "classification_rep = classification_report(y_val, y_pred_val)\n",
    "print(f'AUC: {roc_auc_score(y_val, y_prob_val)}')\n",
    "print(\"Classification Report:\\n\", classification_rep)\n",
    "plt.figure(figsize=(4, 3))\n",
    "sns.heatmap(conf_matrix, annot=True, fmt='d', cmap='Blues', xticklabels=['0', '1'], yticklabels=['0', '1'])\n",
    "plt.xlabel('Predicted')\n",
    "plt.ylabel('Actual')\n",
    "plt.title('Confusion Matrix')\n",
    "plt.show()"
   ]
  }
 ],
 "metadata": {
  "application/vnd.databricks.v1+notebook": {
   "dashboards": [],
   "environmentMetadata": null,
   "language": "python",
   "notebookMetadata": {
    "pythonIndentUnit": 4
   },
   "notebookName": "4 - HealthData_XGBmodel2",
   "widgets": {}
  },
  "language_info": {
   "name": "python"
  }
 },
 "nbformat": 4,
 "nbformat_minor": 0
}
