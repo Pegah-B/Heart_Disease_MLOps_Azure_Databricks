{
 "cells": [
  {
   "cell_type": "code",
   "execution_count": null,
   "metadata": {
    "application/vnd.databricks.v1+cell": {
     "cellMetadata": {
      "byteLimit": 2048000,
      "rowLimit": 10000
     },
     "inputWidgets": {},
     "nuid": "4967042f-8f29-4d76-bc54-14d590d9f989",
     "showTitle": false,
     "title": ""
    }
   },
   "outputs": [],
   "source": [
    "import numpy as np\n",
    "import pandas as pd\n",
    "import seaborn as sns\n",
    "import matplotlib.pyplot as plt\n",
    "import time\n",
    "import sklearn\n",
    "from sklearn.model_selection import train_test_split\n",
    "from sklearn.ensemble import RandomForestClassifier\n",
    "from sklearn.metrics import accuracy_score, precision_score, recall_score, f1_score, roc_auc_score\n",
    "from sklearn.metrics import confusion_matrix, classification_report\n",
    "import mlflow.sklearn\n",
    "import mlflow.pyfunc\n",
    "from mlflow.models.signature import infer_signature\n",
    "from mlflow.tracking import MlflowClient\n",
    "from hyperopt import fmin, hp, tpe, SparkTrials, Trials, STATUS_OK\n",
    "from hyperopt.pyll import scope"
   ]
  },
  {
   "cell_type": "code",
   "execution_count": null,
   "metadata": {
    "application/vnd.databricks.v1+cell": {
     "cellMetadata": {
      "byteLimit": 2048000,
      "rowLimit": 10000
     },
     "inputWidgets": {},
     "nuid": "8ec6f7b7-901d-405c-b605-c3647aa7fcfb",
     "showTitle": false,
     "title": ""
    }
   },
   "outputs": [
    {
     "name": "stdout",
     "output_type": "stream",
     "text": [
      "data shape: (303, 14)\n"
     ]
    },
    {
     "data": {
      "text/html": [
       "<div>\n",
       "<style scoped>\n",
       "    .dataframe tbody tr th:only-of-type {\n",
       "        vertical-align: middle;\n",
       "    }\n",
       "\n",
       "    .dataframe tbody tr th {\n",
       "        vertical-align: top;\n",
       "    }\n",
       "\n",
       "    .dataframe thead th {\n",
       "        text-align: right;\n",
       "    }\n",
       "</style>\n",
       "<table border=\"1\" class=\"dataframe\">\n",
       "  <thead>\n",
       "    <tr style=\"text-align: right;\">\n",
       "      <th></th>\n",
       "      <th>age</th>\n",
       "      <th>sex</th>\n",
       "      <th>cp</th>\n",
       "      <th>trestbps</th>\n",
       "      <th>chol</th>\n",
       "      <th>fbs</th>\n",
       "      <th>restecg</th>\n",
       "      <th>thalach</th>\n",
       "      <th>exang</th>\n",
       "      <th>oldpeak</th>\n",
       "      <th>slope</th>\n",
       "      <th>ca</th>\n",
       "      <th>thal</th>\n",
       "      <th>target</th>\n",
       "    </tr>\n",
       "  </thead>\n",
       "  <tbody>\n",
       "    <tr>\n",
       "      <th>0</th>\n",
       "      <td>63</td>\n",
       "      <td>1</td>\n",
       "      <td>3</td>\n",
       "      <td>145</td>\n",
       "      <td>233</td>\n",
       "      <td>1</td>\n",
       "      <td>0</td>\n",
       "      <td>150</td>\n",
       "      <td>0</td>\n",
       "      <td>2.3</td>\n",
       "      <td>0</td>\n",
       "      <td>0</td>\n",
       "      <td>1</td>\n",
       "      <td>1</td>\n",
       "    </tr>\n",
       "    <tr>\n",
       "      <th>1</th>\n",
       "      <td>37</td>\n",
       "      <td>1</td>\n",
       "      <td>2</td>\n",
       "      <td>130</td>\n",
       "      <td>250</td>\n",
       "      <td>0</td>\n",
       "      <td>1</td>\n",
       "      <td>187</td>\n",
       "      <td>0</td>\n",
       "      <td>3.5</td>\n",
       "      <td>0</td>\n",
       "      <td>0</td>\n",
       "      <td>2</td>\n",
       "      <td>1</td>\n",
       "    </tr>\n",
       "    <tr>\n",
       "      <th>2</th>\n",
       "      <td>41</td>\n",
       "      <td>0</td>\n",
       "      <td>1</td>\n",
       "      <td>130</td>\n",
       "      <td>204</td>\n",
       "      <td>0</td>\n",
       "      <td>0</td>\n",
       "      <td>172</td>\n",
       "      <td>0</td>\n",
       "      <td>1.4</td>\n",
       "      <td>2</td>\n",
       "      <td>0</td>\n",
       "      <td>2</td>\n",
       "      <td>1</td>\n",
       "    </tr>\n",
       "    <tr>\n",
       "      <th>3</th>\n",
       "      <td>56</td>\n",
       "      <td>1</td>\n",
       "      <td>1</td>\n",
       "      <td>120</td>\n",
       "      <td>236</td>\n",
       "      <td>0</td>\n",
       "      <td>1</td>\n",
       "      <td>178</td>\n",
       "      <td>0</td>\n",
       "      <td>0.8</td>\n",
       "      <td>2</td>\n",
       "      <td>0</td>\n",
       "      <td>2</td>\n",
       "      <td>1</td>\n",
       "    </tr>\n",
       "    <tr>\n",
       "      <th>4</th>\n",
       "      <td>57</td>\n",
       "      <td>0</td>\n",
       "      <td>0</td>\n",
       "      <td>120</td>\n",
       "      <td>354</td>\n",
       "      <td>0</td>\n",
       "      <td>1</td>\n",
       "      <td>163</td>\n",
       "      <td>1</td>\n",
       "      <td>0.6</td>\n",
       "      <td>2</td>\n",
       "      <td>0</td>\n",
       "      <td>2</td>\n",
       "      <td>1</td>\n",
       "    </tr>\n",
       "  </tbody>\n",
       "</table>\n",
       "</div>"
      ],
      "text/plain": [
       "   age  sex  cp  trestbps  chol  fbs  ...  exang  oldpeak  slope  ca  thal  target\n",
       "0   63    1   3       145   233    1  ...      0      2.3      0   0     1       1\n",
       "1   37    1   2       130   250    0  ...      0      3.5      0   0     2       1\n",
       "2   41    0   1       130   204    0  ...      0      1.4      2   0     2       1\n",
       "3   56    1   1       120   236    0  ...      0      0.8      2   0     2       1\n",
       "4   57    0   0       120   354    0  ...      1      0.6      2   0     2       1\n",
       "\n",
       "[5 rows x 14 columns]"
      ]
     },
     "execution_count": 2,
     "metadata": {},
     "output_type": "execute_result"
    }
   ],
   "source": [
    "data_df = spark.table(\"db_pegah.default.heart_disease\")\n",
    "df = data_df.toPandas()\n",
    "print(\"data shape:\", df.shape)\n",
    "df.head()"
   ]
  },
  {
   "cell_type": "code",
   "execution_count": null,
   "metadata": {
    "application/vnd.databricks.v1+cell": {
     "cellMetadata": {
      "byteLimit": 2048000,
      "rowLimit": 10000
     },
     "inputWidgets": {},
     "nuid": "51a07794-ff58-4e06-851a-64cac5d53521",
     "showTitle": false,
     "title": ""
    }
   },
   "outputs": [
    {
     "name": "stdout",
     "output_type": "stream",
     "text": [
      "X shape: (303, 13), y shape: (303,)\n",
      "X_train shape: (181, 13), y_train shape: (181,)\n",
      "x_val shape: (61, 13) , y_val shape: (61,)\n",
      "X_test shape: (61, 13), y_test shape: (61,)\n"
     ]
    }
   ],
   "source": [
    "#Splitting the Dataset for Training, Validating and Testing \n",
    "\n",
    "X = df.drop('target' , axis=1 )\n",
    "y = df['target']\n",
    "\n",
    "x_train , x_rem , y_train , y_rem = train_test_split( X , y , train_size=0.6 , random_state=42 )\n",
    "x_val , x_test , y_val , y_test = train_test_split(x_rem , y_rem , test_size=0.5 , random_state=42)\n",
    "\n",
    "print(f\"X shape: {X.shape}, y shape: {y.shape}\")\n",
    "print(f\"X_train shape: {x_train.shape}, y_train shape: {y_train.shape}\")\n",
    "print(f\"x_val shape: {x_val.shape} , y_val shape: {y_val.shape}\")\n",
    "print(f\"X_test shape: {x_test.shape}, y_test shape: {y_test.shape}\")"
   ]
  },
  {
   "cell_type": "code",
   "execution_count": null,
   "metadata": {
    "application/vnd.databricks.v1+cell": {
     "cellMetadata": {
      "byteLimit": 2048000,
      "rowLimit": 10000
     },
     "inputWidgets": {},
     "nuid": "65616fc4-740e-4415-9290-a217dc8bc725",
     "showTitle": false,
     "title": ""
    }
   },
   "outputs": [],
   "source": [
    "#for calculating metrics\n",
    "def calc_metric(y_actual,y_pred,y_prob):\n",
    "    accuracy = accuracy_score(y_actual,y_pred)\n",
    "    precision = precision_score(y_actual,y_pred)\n",
    "    recall = recall_score(y_actual,y_pred)\n",
    "    f1 = f1_score(y_actual,y_pred)\n",
    "    roc_auc = roc_auc_score(y_actual,y_prob)\n",
    "    return accuracy , precision , recall , f1 , roc_auc"
   ]
  },
  {
   "cell_type": "markdown",
   "metadata": {},
   "source": [
    "### Experiment with a Random Forest model with hyperparameter tuning"
   ]
  },
  {
   "cell_type": "code",
   "execution_count": null,
   "metadata": {
    "application/vnd.databricks.v1+cell": {
     "cellMetadata": {
      "byteLimit": 2048000,
      "rowLimit": 10000
     },
     "inputWidgets": {},
     "nuid": "050da0c6-1ca1-430e-b9a9-2909fc8cfe77",
     "showTitle": false,
     "title": ""
    }
   },
   "outputs": [
    {
     "name": "stdout",
     "output_type": "stream",
     "text": [
      "\r  0%|          | 0/50 [00:00<?, ?trial/s, best loss=?]\r  4%|▍         | 2/50 [00:13<05:16,  6.60s/trial, best loss: -0.95995670995671]\r  8%|▊         | 4/50 [00:15<02:32,  3.31s/trial, best loss: -0.95995670995671]\r 10%|█         | 5/50 [00:22<03:18,  4.41s/trial, best loss: -0.95995670995671]\r 12%|█▏        | 6/50 [00:24<02:42,  3.69s/trial, best loss: -0.9632034632034632]\r 14%|█▍        | 7/50 [00:26<02:17,  3.19s/trial, best loss: -0.9632034632034632]\r 16%|█▌        | 8/50 [00:27<01:46,  2.54s/trial, best loss: -0.9632034632034632]\r 18%|█▊        | 9/50 [00:33<02:26,  3.58s/trial, best loss: -0.9642857142857143]\r 20%|██        | 10/50 [00:36<02:16,  3.41s/trial, best loss: -0.9642857142857143]\r 24%|██▍       | 12/50 [00:37<01:18,  2.07s/trial, best loss: -0.9642857142857143]\r 26%|██▌       | 13/50 [00:43<01:53,  3.06s/trial, best loss: -0.9642857142857143]\r 30%|███       | 15/50 [00:47<01:31,  2.62s/trial, best loss: -0.9642857142857143]\r 32%|███▏      | 16/50 [00:48<01:16,  2.26s/trial, best loss: -0.9642857142857143]\r 34%|███▍      | 17/50 [00:54<01:45,  3.19s/trial, best loss: -0.9642857142857143]\r 36%|███▌      | 18/50 [00:56<01:32,  2.89s/trial, best loss: -0.9642857142857143]\r 38%|███▊      | 19/50 [00:58<01:22,  2.65s/trial, best loss: -0.9642857142857143]\r 40%|████      | 20/50 [00:59<01:05,  2.19s/trial, best loss: -0.9642857142857143]\r 42%|████▏     | 21/50 [01:05<01:35,  3.29s/trial, best loss: -0.9675324675324675]\r 44%|████▍     | 22/50 [01:08<01:29,  3.21s/trial, best loss: -0.9696969696969697]\r 48%|████▊     | 24/50 [01:10<00:57,  2.22s/trial, best loss: -0.9707792207792207]\r 50%|█████     | 25/50 [01:17<01:24,  3.40s/trial, best loss: -0.9707792207792207]\r 52%|█████▏    | 26/50 [01:20<01:19,  3.30s/trial, best loss: -0.9707792207792207]\r 54%|█████▍    | 27/50 [01:21<01:01,  2.68s/trial, best loss: -0.9707792207792207]\r 56%|█████▌    | 28/50 [01:22<00:48,  2.22s/trial, best loss: -0.9707792207792207]\r 58%|█████▊    | 29/50 [01:28<01:09,  3.31s/trial, best loss: -0.9707792207792207]\r 62%|██████▏   | 31/50 [01:32<00:51,  2.73s/trial, best loss: -0.9718614718614719]\r 64%|██████▍   | 32/50 [01:33<00:41,  2.31s/trial, best loss: -0.9718614718614719]\r 66%|██████▌   | 33/50 [01:40<01:00,  3.53s/trial, best loss: -0.9718614718614719]\r 68%|██████▊   | 34/50 [01:43<00:54,  3.40s/trial, best loss: -0.972943722943723] \r 70%|███████   | 35/50 [01:44<00:41,  2.73s/trial, best loss: -0.972943722943723]\r 72%|███████▏  | 36/50 [01:45<00:31,  2.25s/trial, best loss: -0.972943722943723]\r 74%|███████▍  | 37/50 [01:51<00:43,  3.35s/trial, best loss: -0.972943722943723]\r 76%|███████▌  | 38/50 [01:55<00:42,  3.55s/trial, best loss: -0.972943722943723]\r 80%|████████  | 40/50 [01:57<00:23,  2.40s/trial, best loss: -0.972943722943723]\r 82%|████████▏ | 41/50 [02:04<00:29,  3.29s/trial, best loss: -0.972943722943723]\r 84%|████████▍ | 42/50 [02:07<00:25,  3.22s/trial, best loss: -0.972943722943723]\r 88%|████████▊ | 44/50 [02:09<00:13,  2.27s/trial, best loss: -0.972943722943723]\r 90%|█████████ | 45/50 [02:16<00:16,  3.38s/trial, best loss: -0.972943722943723]\r 92%|█████████▏| 46/50 [02:19<00:13,  3.28s/trial, best loss: -0.972943722943723]\r 96%|█████████▌| 48/50 [02:21<00:04,  2.33s/trial, best loss: -0.972943722943723]\r 98%|█████████▊| 49/50 [02:26<00:02,  2.95s/trial, best loss: -0.972943722943723]\r100%|██████████| 50/50 [02:28<00:00,  2.71s/trial, best loss: -0.972943722943723]\r100%|██████████| 50/50 [02:28<00:00,  2.96s/trial, best loss: -0.972943722943723]\n"
     ]
    },
    {
     "name": "stderr",
     "output_type": "stream",
     "text": [
      "Total Trials: 50: 50 succeeded, 0 failed, 0 cancelled.\n",
      "2024/08/21 03:45:02 INFO mlflow.tracking._tracking_service.client: 🏃 View run RF_Hyperparameter_Tuning at: adb-906463842782173.13.azuredatabricks.net/ml/experiments/2193016641927816/runs/04337ed363c1471daccaa4af9b37f42e.\n",
      "2024/08/21 03:45:02 INFO mlflow.tracking._tracking_service.client: 🧪 View experiment at: adb-906463842782173.13.azuredatabricks.net/ml/experiments/2193016641927816.\n"
     ]
    }
   ],
   "source": [
    "# Define the search space for hyperparameters\n",
    "search_space = {\n",
    "    'n_estimators': scope.int(hp.quniform('n_estimators', 100, 1000, 50)),\n",
    "    'max_depth': scope.int(hp.quniform('max_depth', 5, 50, 1)),\n",
    "    \"criterion\": hp.choice(\"criterion\", [\"gini\", \"entropy\"]),\n",
    "    'min_samples_split': scope.int(hp.quniform('min_samples_split', 2, 20, 1)),\n",
    "    'min_samples_leaf': scope.int(hp.quniform('min_samples_leaf', 1, 20, 1)),\n",
    "    'max_features': hp.choice('max_features', ['auto', 'sqrt', 'log2']),\n",
    "    'bootstrap': hp.choice('bootstrap', [True, False]),\n",
    "}\n",
    "\n",
    "def objective(params):\n",
    "        run_name = f\"RF_n={params['n_estimators']}_d={params['max_depth']}_c={params['criterion'][0]}\"\n",
    "        with mlflow.start_run(nested=True, run_name=run_name):\n",
    "                rf_model = RandomForestClassifier(**params, random_state=42)\n",
    "                rf_model.fit(x_train, y_train)\n",
    "                \n",
    "                y_pred_val = rf_model.predict(x_val)\n",
    "                y_prob_val = rf_model.predict_proba(x_val)[:, 1]\n",
    "\n",
    "                (accuracy , precision , recall , f1 , roc_auc) = calc_metric(y_val,y_pred_val,y_prob_val)\n",
    "                mlflow.log_metric('accuracy', accuracy)\n",
    "                mlflow.log_metric('precision', precision)\n",
    "                mlflow.log_metric('recall', recall)\n",
    "                mlflow.log_metric('f1_score', f1)\n",
    "                mlflow.log_metric('roc_auc', roc_auc)\n",
    "                mlflow.log_params(params)\n",
    "                signature = infer_signature(x_train, rf_model.predict(x_train))\n",
    "                mlflow.sklearn.log_model(rf_model, artifact_path=\"random_forest_model\", signature=signature)\n",
    "                        \n",
    "                return {\"loss\": -roc_auc, \"status\": STATUS_OK}\n",
    "\n",
    "with mlflow.start_run(run_name=\"RF_Hyperparameter_Tuning\"):\n",
    "        spark_trials = SparkTrials(parallelism=10) #for parallel hyperparameter tuning\n",
    "        best_params = fmin(fn=objective, \n",
    "                                space=search_space, \n",
    "                                algo=tpe.suggest, \n",
    "                                max_evals=50, \n",
    "                                trials=spark_trials)\n",
    "        mlflow.log_params(best_params)\n",
    "  \n",
    "\n",
    "mlflow.end_run()"
   ]
  },
  {
   "cell_type": "code",
   "execution_count": null,
   "metadata": {
    "application/vnd.databricks.v1+cell": {
     "cellMetadata": {
      "byteLimit": 2048000,
      "rowLimit": 10000
     },
     "inputWidgets": {},
     "nuid": "ccd586b4-87a5-4204-8669-0fc115f27729",
     "showTitle": false,
     "title": ""
    }
   },
   "outputs": [
    {
     "name": "stdout",
     "output_type": "stream",
     "text": [
      "roc_auc of best run: 0.972943722943723\n",
      "Run ID: 15d595ed82664d2fa38d27e464469573\n",
      "Artifact URI: dbfs:/databricks/mlflow-tracking/2193016641927816/15d595ed82664d2fa38d27e464469573/artifacts\n",
      "Status: FINISHED\n",
      "Tags: RF_n=600_d=15_c=e\n",
      "Metrics: {'accuracy': 0.8852459016393442, 'f1_score': 0.888888888888889, 'precision': 0.9333333333333333, 'recall': 0.8484848484848485, 'roc_auc': 0.972943722943723}\n",
      "Params: {'bootstrap': 'True', 'criterion': 'entropy', 'max_depth': '15', 'max_features': 'sqrt', 'min_samples_leaf': '2', 'min_samples_split': '15', 'n_estimators': '600'}\n"
     ]
    }
   ],
   "source": [
    "# Search all runs across experiments\n",
    "search_result = mlflow.search_runs(order_by=['metrics.roc_auc DESC'])\n",
    "\n",
    "# Find the best run\n",
    "best_run = search_result.iloc[0]  # Get the top run\n",
    "best_auc = best_run[\"metrics.roc_auc\"]\n",
    "best_run_id = best_run[\"run_id\"]\n",
    "print(f'roc_auc of best run: {best_auc}')\n",
    "\n",
    "# Retrieve details of the best run\n",
    "best_run_details = mlflow.get_run(best_run_id)\n",
    "print(\"Run ID:\", best_run_details.info.run_id)\n",
    "print(\"Artifact URI:\", best_run_details.info.artifact_uri)\n",
    "print(\"Status:\", best_run_details.info.status)\n",
    "print(\"Tags:\", best_run_details.data.tags.get(\"mlflow.runName\"))\n",
    "print(\"Metrics:\", best_run_details.data.metrics)\n",
    "print(\"Params:\", best_run_details.data.params) "
   ]
  },
  {
   "cell_type": "code",
   "execution_count": null,
   "metadata": {
    "application/vnd.databricks.v1+cell": {
     "cellMetadata": {
      "byteLimit": 2048000,
      "rowLimit": 10000
     },
     "inputWidgets": {},
     "nuid": "5dab7fe2-eb75-42f6-90dc-3be368626d36",
     "showTitle": false,
     "title": ""
    }
   },
   "outputs": [],
   "source": [
    "# Register the best run model and assign it the \"Champion\" alias\n",
    "model_name = \"Best_Model\"\n",
    "model_uri = f\"runs:/{best_run_id}/random_forest_model\"  \n",
    "model_version = mlflow.register_model(model_uri, model_name)\n",
    "\n",
    "client = MlflowClient()\n",
    "client.set_registered_model_alias(model_name, \"Champion\", model_version.version)"
   ]
  },
  {
   "cell_type": "markdown",
   "metadata": {},
   "source": [
    "### Load model"
   ]
  },
  {
   "cell_type": "code",
   "execution_count": null,
   "metadata": {
    "application/vnd.databricks.v1+cell": {
     "cellMetadata": {
      "byteLimit": 2048000,
      "rowLimit": 10000
     },
     "inputWidgets": {},
     "nuid": "b15de60f-65dc-4b04-a98c-4b3b365001d4",
     "showTitle": false,
     "title": ""
    }
   },
   "outputs": [],
   "source": [
    "model = mlflow.sklearn.load_model(f\"models:/{model_name}@Champion\")"
   ]
  },
  {
   "cell_type": "code",
   "execution_count": null,
   "metadata": {
    "application/vnd.databricks.v1+cell": {
     "cellMetadata": {
      "byteLimit": 2048000,
      "rowLimit": 10000
     },
     "inputWidgets": {},
     "nuid": "529f4a7d-e6a6-452a-867a-2e4d4789105b",
     "showTitle": false,
     "title": ""
    }
   },
   "outputs": [
    {
     "name": "stdout",
     "output_type": "stream",
     "text": [
      "AUC: 0.9833537331701345\n",
      "AUC: 0.972943722943723\n",
      "AUC: 0.8581081081081081\n"
     ]
    }
   ],
   "source": [
    "print(f'AUC: {roc_auc_score(y_train, model.predict_proba(x_train)[:, 1])}')\n",
    "print(f'AUC: {roc_auc_score(y_val, model.predict_proba(x_val)[:, 1])}')\n",
    "print(f'AUC: {roc_auc_score(y_test, model.predict_proba(x_test)[:, 1])}')"
   ]
  },
  {
   "cell_type": "code",
   "execution_count": null,
   "metadata": {
    "application/vnd.databricks.v1+cell": {
     "cellMetadata": {
      "byteLimit": 2048000,
      "rowLimit": 10000
     },
     "inputWidgets": {},
     "nuid": "5d724550-e53d-4573-a292-51382f3dcc32",
     "showTitle": false,
     "title": ""
    }
   },
   "outputs": [
    {
     "name": "stdout",
     "output_type": "stream",
     "text": [
      "AUC: 0.972943722943723\n",
      "Classification Report:\n",
      "               precision    recall  f1-score   support\n",
      "\n",
      "           0       0.84      0.93      0.88        28\n",
      "           1       0.93      0.85      0.89        33\n",
      "\n",
      "    accuracy                           0.89        61\n",
      "   macro avg       0.89      0.89      0.89        61\n",
      "weighted avg       0.89      0.89      0.89        61\n",
      "\n"
     ]
    },
    {
     "data": {
      "image/png": "[encoded data removed]",
      "text/plain": [
       "<Figure size 400x300 with 2 Axes>"
      ]
     },
     "metadata": {},
     "output_type": "display_data"
    }
   ],
   "source": [
    "y_pred_val = model.predict(x_val)\n",
    "y_prob_val = model.predict_proba(x_val)[:, 1]\n",
    "conf_matrix = confusion_matrix(y_val, y_pred_val)\n",
    "classification_rep = classification_report(y_val, y_pred_val)\n",
    "print(f'AUC: {roc_auc_score(y_val, y_prob_val)}')\n",
    "print(\"Classification Report:\\n\", classification_rep)\n",
    "plt.figure(figsize=(4, 3))\n",
    "sns.heatmap(conf_matrix, annot=True, fmt='d', cmap='Blues', xticklabels=['0', '1'], yticklabels=['0', '1'])\n",
    "plt.xlabel('Predicted')\n",
    "plt.ylabel('Actual')\n",
    "plt.title('Confusion Matrix')\n",
    "plt.show()"
   ]
  }
 ],
 "metadata": {
  "application/vnd.databricks.v1+notebook": {
   "dashboards": [],
   "environmentMetadata": null,
   "language": "python",
   "notebookMetadata": {
    "pythonIndentUnit": 4
   },
   "notebookName": "2 - HealthData_RFmodel2",
   "widgets": {}
  },
  "language_info": {
   "name": "python"
  }
 },
 "nbformat": 4,
 "nbformat_minor": 0
}
